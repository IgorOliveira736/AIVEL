{
 "cells": [
  {
   "cell_type": "code",
   "execution_count": 7,
   "metadata": {},
   "outputs": [],
   "source": [
    "import pandas as pd\n",
    "import pyodbc\n",
    "from faker import Faker\n",
    "import random\n",
    "\n",
    "server = 'DESKTOP-I6IFBTN\\SQLEXPRESS'  # ou '127.0.0.1'\n",
    "database = 'A3copy'  # Substitua pelo nome do seu banco de dados\n",
    "driver = '{SQL Server}'  # Pode variar conforme a instalação do driver\n",
    "\n",
    "connection_string = f'DRIVER={driver};SERVER={server};DATABASE={database};Trusted_Connection=yes'\n",
    "\n",
    "conn = pyodbc.connect(connection_string)\n",
    "cursor = conn.cursor()\n",
    " \n",
    "\n",
    "\n",
    "\n"
   ]
  },
  {
   "cell_type": "code",
   "execution_count": 23,
   "metadata": {},
   "outputs": [
    {
     "name": "stdout",
     "output_type": "stream",
     "text": [
      "<class 'pandas.core.frame.DataFrame'>\n",
      "RangeIndex: 44500 entries, 0 to 44499\n",
      "Data columns (total 5 columns):\n",
      " #   Column      Non-Null Count  Dtype  \n",
      "---  ------      --------------  -----  \n",
      " 0   data        44500 non-null  object \n",
      " 1   nome        44500 non-null  object \n",
      " 2   produto     44500 non-null  object \n",
      " 3   preco       44500 non-null  float64\n",
      " 4   quantidade  44500 non-null  int64  \n",
      "dtypes: float64(1), int64(1), object(3)\n",
      "memory usage: 1.7+ MB\n"
     ]
    }
   ],
   "source": [
    "\n",
    "# Inicializa o Faker para dados brasileiros\n",
    "fake = Faker('pt_BR')\n",
    "\n",
    "# Carrega o dataset CSV\n",
    "df = pd.read_csv('tudo.csv', delimiter=',')\n",
    "\n",
    "# Seleciona e renomeia colunas\n",
    "df = df[['created_at', 'name', 'product', 'price_x', 'quantity']]\n",
    "df.columns = ['data', 'nome', 'produto', 'preco', 'quantidade']\n",
    "\n",
    "# Converte a coluna de data e remove fuso horário (timezone-naive)\n",
    "df['data'] = pd.to_datetime(df['data']).dt.tz_localize(None)\n",
    "df['preco'] = df['preco'] / 100\n",
    "df['quantidade'] = df['quantidade'].astype(int)\n",
    "\n",
    "# Define um intervalo de datas recentes (por exemplo, entre 2015 e 2023)\n",
    "start_date = pd.to_datetime('2019-01-01')\n",
    "end_date = pd.to_datetime('2023-12-31')\n",
    "\n",
    "# Função para gerar uma data aleatória no intervalo\n",
    "def random_recent_date():\n",
    "    return start_date + (end_date - start_date) * random.random()\n",
    "\n",
    "# Substitui as datas antigas (por exemplo, antes de 2000) com datas aleatórias recentes\n",
    "df['data'] = df['data'].apply(lambda x: random_recent_date() if x < pd.Timestamp('2000-01-01') else x)\n",
    "\n",
    "# Ajusta o formato da data para 'dd/mm/yyyy'\n",
    "df['data'] = df['data'].dt.strftime('%Y-%m-%d')\n",
    "\n",
    "# Substitui os nomes da coluna 'nome' com novos nomes gerados pelo Faker\n",
    "for i in range(len(df)):\n",
    "    df.at[i, 'nome'] = fake.name()\n",
    "\n",
    "# Lista de produtos específicos\n",
    "produtos_especificos = [\"Cópia\", \"Encadernação\", \"Impressão\", \"Digitalização\", \"Plastificação\", \"Gravação de CD/DVD\"]\n",
    "\n",
    "# Substitui os nomes dos produtos por valores aleatórios da lista de produtos específicos\n",
    "df['produto'] = df['produto'].apply(lambda x: random.choice(produtos_especificos))\n",
    "\n",
    "# Exibe as primeiras linhas do DataFrame\n",
    "df.info()\n",
    "\n"
   ]
  },
  {
   "cell_type": "code",
   "execution_count": 24,
   "metadata": {},
   "outputs": [],
   "source": [
    "# df.to_sql('dbo.base_dados', con = conn, if_exists='append', index = False)\n",
    "for index, row in df.iterrows():\n",
    "        insert_query = \"\"\"\n",
    "        INSERT INTO base_dados (data, nome, produto, preco, quantidade)\n",
    "        VALUES (?, ?, ?, ?, ?)\n",
    "        \"\"\"\n",
    "        valores = (row['data'], row['nome'], row['produto'], row['preco'], row['quantidade'])\n",
    "        cursor.execute(insert_query, valores) \n",
    "        \n",
    "conn.commit()"
   ]
  }
 ],
 "metadata": {
  "kernelspec": {
   "display_name": "Python 3",
   "language": "python",
   "name": "python3"
  },
  "language_info": {
   "codemirror_mode": {
    "name": "ipython",
    "version": 3
   },
   "file_extension": ".py",
   "mimetype": "text/x-python",
   "name": "python",
   "nbconvert_exporter": "python",
   "pygments_lexer": "ipython3",
   "version": "3.11.9"
  }
 },
 "nbformat": 4,
 "nbformat_minor": 2
}
